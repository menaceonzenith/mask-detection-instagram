{
 "cells": [
  {
   "cell_type": "markdown",
   "metadata": {},
   "source": [
    "# Saving Faces from Pictures"
   ]
  },
  {
   "cell_type": "markdown",
   "metadata": {},
   "source": [
    "In this notebook, I extracted faces from the datasets that I downloaded. Because I am training on recognizing the difference between someone wearing a mask and not, my neural network needed to be trained on only just the facial portion. I use Pytorch's MTCNN to successfully extract out faces and save them into a local directory."
   ]
  },
  {
   "cell_type": "code",
   "execution_count": null,
   "metadata": {},
   "outputs": [],
   "source": [
    "from matplotlib import pyplot as plt\n",
    "from facenet_pytorch import MTCNN\n",
    "from matplotlib.patches import Rectangle\n",
    "import os\n",
    "from pathlib import Path\n",
    "import tqdm\n",
    "import cv2\n",
    "import numpy as np"
   ]
  },
  {
   "cell_type": "code",
   "execution_count": null,
   "metadata": {},
   "outputs": [],
   "source": [
    "mtcnn = MTCNN(select_largest = False, keep_all = True, min_face_size = 50)"
   ]
  },
  {
   "cell_type": "code",
   "execution_count": null,
   "metadata": {},
   "outputs": [],
   "source": [
    "face_path = Path('input your directory where you saved the faces dataset')"
   ]
  },
  {
   "cell_type": "code",
   "execution_count": null,
   "metadata": {},
   "outputs": [],
   "source": [
    "mask_path = Path('input your directory where you saved the masks dataset')"
   ]
  },
  {
   "cell_type": "code",
   "execution_count": null,
   "metadata": {},
   "outputs": [],
   "source": [
    "def save_images(path_string):\n",
    "    count = 0\n",
    "    for img in list(path_string.iterdir()):\n",
    "        img = cv2.cvtColor(cv2.imread(str(img)), cv2.COLOR_BGR2RGB)\n",
    "        img = np.array(img, dtype = np.uint8)   \n",
    "        face = mtcnn(img)\n",
    "        save_paths = f'image_{count}.jpeg'       \n",
    "        mtcnn(img, save_paths)\n",
    "        count += 1"
   ]
  },
  {
   "cell_type": "code",
   "execution_count": null,
   "metadata": {},
   "outputs": [],
   "source": [
    "save_images(face_path)"
   ]
  },
  {
   "cell_type": "code",
   "execution_count": null,
   "metadata": {},
   "outputs": [],
   "source": [
    "save_images(mask_path)"
   ]
  }
 ],
 "metadata": {
  "kernelspec": {
   "display_name": "Python 3",
   "language": "python",
   "name": "python3"
  },
  "language_info": {
   "codemirror_mode": {
    "name": "ipython",
    "version": 3
   },
   "file_extension": ".py",
   "mimetype": "text/x-python",
   "name": "python",
   "nbconvert_exporter": "python",
   "pygments_lexer": "ipython3",
   "version": "3.7.6"
  }
 },
 "nbformat": 4,
 "nbformat_minor": 4
}
