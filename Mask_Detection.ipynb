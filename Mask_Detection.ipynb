{
 "cells": [
  {
   "cell_type": "markdown",
   "metadata": {},
   "source": [
    "# MTCNN + Model Mask Detection"
   ]
  },
  {
   "cell_type": "markdown",
   "metadata": {},
   "source": [
    "This notebook is run after my neural network model has been trained and the best weights were saved. We will now be able to put together a function that will take pictures fed into the pipeline and determine whether people are wearing masks or not! Due to the large use of RAM, I ran this notebook on Google Colab for better functionality."
   ]
  },
  {
   "cell_type": "code",
   "execution_count": null,
   "metadata": {
    "colab": {
     "base_uri": "https://localhost:8080/",
     "height": 34
    },
    "colab_type": "code",
    "executionInfo": {
     "elapsed": 575,
     "status": "ok",
     "timestamp": 1600221349849,
     "user": {
      "displayName": "Rudy Wang",
      "photoUrl": "",
      "userId": "05894799466895073746"
     },
     "user_tz": 240
    },
    "id": "2KHBqxYmDADr",
    "outputId": "55d3f2a5-41b7-4225-b48c-d39f1bbe9d46"
   },
   "outputs": [],
   "source": [
    "from tensorflow.keras.models import load_model\n",
    "from tensorflow.keras.preprocessing.image import ImageDataGenerator, load_img, img_to_array\n",
    "from mtcnn.mtcnn import MTCNN\n",
    "import cv2\n",
    "import numpy as np\n",
    "from pathlib import Path\n",
    "\n",
    "%pylab inline"
   ]
  },
  {
   "cell_type": "markdown",
   "metadata": {},
   "source": [
    "Only ran this on Google Colab since it needed to reinstall MTCNN everytime I closed out and logged back into the session."
   ]
  },
  {
   "cell_type": "code",
   "execution_count": null,
   "metadata": {
    "colab": {
     "base_uri": "https://localhost:8080/",
     "height": 153
    },
    "colab_type": "code",
    "executionInfo": {
     "elapsed": 3912,
     "status": "ok",
     "timestamp": 1600209728147,
     "user": {
      "displayName": "Rudy Wang",
      "photoUrl": "",
      "userId": "05894799466895073746"
     },
     "user_tz": 240
    },
    "id": "CeHMge5M6uWE",
    "outputId": "7a1cb69f-3152-436c-bd69-ebb3645b9a84"
   },
   "outputs": [],
   "source": [
    "!pip install mtcnn"
   ]
  },
  {
   "cell_type": "markdown",
   "metadata": {},
   "source": [
    "Logged into my Google Drive to import my best saved model and its associated weights."
   ]
  },
  {
   "cell_type": "code",
   "execution_count": null,
   "metadata": {
    "colab": {
     "base_uri": "https://localhost:8080/",
     "height": 34
    },
    "colab_type": "code",
    "executionInfo": {
     "elapsed": 671,
     "status": "ok",
     "timestamp": 1600221353555,
     "user": {
      "displayName": "Rudy Wang",
      "photoUrl": "",
      "userId": "05894799466895073746"
     },
     "user_tz": 240
    },
    "id": "tqkLVkceDHZg",
    "outputId": "12a16ede-25aa-4a14-e9f6-b8521d131dd5"
   },
   "outputs": [],
   "source": [
    "from google.colab import drive\n",
    "drive.mount(\"/content/drive\")"
   ]
  },
  {
   "cell_type": "code",
   "execution_count": null,
   "metadata": {
    "colab": {},
    "colab_type": "code",
    "executionInfo": {
     "elapsed": 23759,
     "status": "ok",
     "timestamp": 1600226018660,
     "user": {
      "displayName": "Rudy Wang",
      "photoUrl": "",
      "userId": "05894799466895073746"
     },
     "user_tz": 240
    },
    "id": "h1IZlWSADADy"
   },
   "outputs": [],
   "source": [
    "model = load_model('input your model here')\n",
    "model.load_weights('input your model weights here')"
   ]
  },
  {
   "cell_type": "markdown",
   "metadata": {},
   "source": [
    "## Drawing Boundary Boxes and Labels Function"
   ]
  },
  {
   "cell_type": "markdown",
   "metadata": {},
   "source": [
    "All credits of this below function goes out to Jason Brownlee on Machine Learning Mastery: https://machinelearningmastery.com/how-to-perform-face-detection-with-classical-and-deep-learning-methods-in-python-with-keras/. The custom text input portion was written by me in order to use my model to predict the label to assign to each face within the image."
   ]
  },
  {
   "cell_type": "code",
   "execution_count": null,
   "metadata": {
    "colab": {},
    "colab_type": "code",
    "executionInfo": {
     "elapsed": 494,
     "status": "ok",
     "timestamp": 1600221443916,
     "user": {
      "displayName": "Rudy Wang",
      "photoUrl": "",
      "userId": "05894799466895073746"
     },
     "user_tz": 240
    },
    "id": "2uBU_l1HDAED"
   },
   "outputs": [],
   "source": [
    "def draw_image_with_boxes(filename, result_list):\n",
    "    # load the image\n",
    "    data = cv2.cvtColor(cv2.imread(str(filename)), cv2.COLOR_BGR2RGB)\n",
    "    # plot the image\n",
    "    #figure(figsize = (8,8))\n",
    "    plt.imshow(data)\n",
    "    # get the context for drawing boxes\n",
    "    ax = plt.gca()\n",
    "    # plot each box\n",
    "    for result in result_list:\n",
    "        # get coordinates\n",
    "        x, y, width, height = result['box']\n",
    "        # create the shape\n",
    "        rect = Rectangle((x, y), width, height, fill=False, color='blue')\n",
    "        # draw the box\n",
    "        ax.add_patch(rect)\n",
    "        \n",
    "        # custom text input\n",
    "        face = data[y: y+height, x: x+width]\n",
    "        image = cv2.resize(face, (224, 224))\n",
    "        input_arr = img_to_array(image)\n",
    "        input_arr = np.array([input_arr]) \n",
    "        pred = model.predict_classes(input_arr)[0]\n",
    "        if pred == 1:\n",
    "          plt.text((x+(width/3.5)),(y-5), 'Mask', color = 'yellow', size = 'medium')\n",
    "        else:\n",
    "          plt.text((x+(width/3.5)),(y-5), 'Face', color = 'red', size = 'medium')\n",
    "        \n",
    "    # show the plot\n",
    "    plt.show()"
   ]
  },
  {
   "cell_type": "markdown",
   "metadata": {
    "colab": {},
    "colab_type": "code",
    "executionInfo": {
     "elapsed": 896,
     "status": "ok",
     "timestamp": 1600226118113,
     "user": {
      "displayName": "Rudy Wang",
      "photoUrl": "",
      "userId": "05894799466895073746"
     },
     "user_tz": 240
    },
    "id": "JU-aXHkuDAEG"
   },
   "source": [
    "## Face Detector Function"
   ]
  },
  {
   "cell_type": "code",
   "execution_count": null,
   "metadata": {
    "colab": {},
    "colab_type": "code",
    "executionInfo": {
     "elapsed": 715,
     "status": "ok",
     "timestamp": 1600226118618,
     "user": {
      "displayName": "Rudy Wang",
      "photoUrl": "",
      "userId": "05894799466895073746"
     },
     "user_tz": 240
    },
    "id": "SJr2hX1EDAEj"
   },
   "outputs": [],
   "source": [
    "def face_detector(path_string):\n",
    "    # creates a MTCNN object to detect faces\n",
    "    detector = MTCNN(min_face_size = 35)\n",
    "    \n",
    "    # creates a list of the directory items\n",
    "    picture_path = Path(path_string)\n",
    "    full_list = list(picture_path.iterdir())\n",
    "    \n",
    "    # creates a for loop that will apply a boundary box and label for each original image within the directory\n",
    "    for each in full_list:\n",
    "        pixels = plt.imread(each)\n",
    "\n",
    "        faces = detector.detect_faces(pixels)\n",
    "\n",
    "        draw_image_with_boxes(each, faces)"
   ]
  },
  {
   "cell_type": "markdown",
   "metadata": {},
   "source": [
    "## Running the Face Detector Function"
   ]
  },
  {
   "cell_type": "code",
   "execution_count": null,
   "metadata": {},
   "outputs": [],
   "source": [
    "path_string = Path('input the path name of your picture directory here')"
   ]
  },
  {
   "cell_type": "code",
   "execution_count": null,
   "metadata": {
    "colab": {
     "base_uri": "https://localhost:8080/",
     "height": 1000
    },
    "colab_type": "code",
    "executionInfo": {
     "elapsed": 34961,
     "status": "ok",
     "timestamp": 1600226153188,
     "user": {
      "displayName": "Rudy Wang",
      "photoUrl": "",
      "userId": "05894799466895073746"
     },
     "user_tz": 240
    },
    "id": "0i0e09CFf9rt",
    "outputId": "bbf7ceb2-a2a5-444a-c1b5-9458fd36129e"
   },
   "outputs": [],
   "source": [
    "face_detector(path_string)"
   ]
  }
 ],
 "metadata": {
  "colab": {
   "name": "Showoff.ipynb",
   "provenance": []
  },
  "kernelspec": {
   "display_name": "Python 3",
   "language": "python",
   "name": "python3"
  },
  "language_info": {
   "codemirror_mode": {
    "name": "ipython",
    "version": 3
   },
   "file_extension": ".py",
   "mimetype": "text/x-python",
   "name": "python",
   "nbconvert_exporter": "python",
   "pygments_lexer": "ipython3",
   "version": "3.7.6"
  }
 },
 "nbformat": 4,
 "nbformat_minor": 4
}
